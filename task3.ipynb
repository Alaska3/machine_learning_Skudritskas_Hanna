{
 "cells": [
  {
   "cell_type": "markdown",
   "source": [
    "# Практика №3\n",
    "## Дослідження даних за допомогою бібліотеки pandas"
   ],
   "metadata": {
    "collapsed": false,
    "id": "3d787a28d2d74f5b"
   },
   "id": "3d787a28d2d74f5b"
  },
  {
   "cell_type": "code",
   "execution_count": 1,
   "outputs": [],
   "source": [
    "# імпорт модулів\n",
    "import numpy as np\n",
    "import pandas as pd\n",
    "import matplotlib.pyplot as plt"
   ],
   "metadata": {
    "id": "c7087f89eda1c2b6",
    "ExecuteTime": {
     "end_time": "2023-12-27T18:55:54.840217300Z",
     "start_time": "2023-12-27T18:55:53.466254Z"
    }
   },
   "id": "c7087f89eda1c2b6"
  },
  {
   "cell_type": "code",
   "execution_count": 2,
   "outputs": [],
   "source": [
    "# зчитайте файл players_20.csv\n",
    "df_data = pd.read_csv(\"players_20.csv\")"
   ],
   "metadata": {
    "id": "cd1b6214f1e27fac",
    "ExecuteTime": {
     "end_time": "2023-12-27T18:55:57.716438800Z",
     "start_time": "2023-12-27T18:55:57.130669700Z"
    }
   },
   "id": "cd1b6214f1e27fac"
  },
  {
   "cell_type": "code",
   "execution_count": 3,
   "outputs": [
    {
     "name": "stdout",
     "output_type": "stream",
     "text": [
      "Перші 5 рядків:\n",
      "   sofifa_id                                         player_url  \\\n",
      "0     158023  https://sofifa.com/player/158023/lionel-messi/...   \n",
      "1      20801  https://sofifa.com/player/20801/c-ronaldo-dos-...   \n",
      "2     190871  https://sofifa.com/player/190871/neymar-da-sil...   \n",
      "3     200389  https://sofifa.com/player/200389/jan-oblak/20/...   \n",
      "4     183277  https://sofifa.com/player/183277/eden-hazard/2...   \n",
      "\n",
      "          short_name                            long_name  age         dob  \\\n",
      "0           L. Messi       Lionel Andrés Messi Cuccittini   32  1987-06-24   \n",
      "1  Cristiano Ronaldo  Cristiano Ronaldo dos Santos Aveiro   34  1985-02-05   \n",
      "2          Neymar Jr        Neymar da Silva Santos Junior   27  1992-02-05   \n",
      "3           J. Oblak                            Jan Oblak   26  1993-01-07   \n",
      "4          E. Hazard                          Eden Hazard   28  1991-01-07   \n",
      "\n",
      "   height_cm  weight_kg nationality                 club  ...   lwb   ldm  \\\n",
      "0        170         72   Argentina         FC Barcelona  ...  68+2  66+2   \n",
      "1        187         83    Portugal             Juventus  ...  65+3  61+3   \n",
      "2        175         68      Brazil  Paris Saint-Germain  ...  66+3  61+3   \n",
      "3        188         87    Slovenia      Atlético Madrid  ...   NaN   NaN   \n",
      "4        175         74     Belgium          Real Madrid  ...  66+3  63+3   \n",
      "\n",
      "    cdm   rdm   rwb    lb   lcb    cb   rcb    rb  \n",
      "0  66+2  66+2  68+2  63+2  52+2  52+2  52+2  63+2  \n",
      "1  61+3  61+3  65+3  61+3  53+3  53+3  53+3  61+3  \n",
      "2  61+3  61+3  66+3  61+3  46+3  46+3  46+3  61+3  \n",
      "3   NaN   NaN   NaN   NaN   NaN   NaN   NaN   NaN  \n",
      "4  63+3  63+3  66+3  61+3  49+3  49+3  49+3  61+3  \n",
      "\n",
      "[5 rows x 104 columns]\n"
     ]
    }
   ],
   "source": [
    "# виведіть перші 5 рядків\n",
    "print(\"Перші 5 рядків:\")\n",
    "print(df_data.head())"
   ],
   "metadata": {
    "id": "25973717c53c8066",
    "ExecuteTime": {
     "end_time": "2023-12-27T18:55:59.822789400Z",
     "start_time": "2023-12-27T18:55:59.783138400Z"
    }
   },
   "id": "25973717c53c8066"
  },
  {
   "cell_type": "code",
   "execution_count": 4,
   "outputs": [
    {
     "name": "stdout",
     "output_type": "stream",
     "text": [
      "\n",
      "Розміри об'єкту DataFrame: (18278, 104)\n"
     ]
    }
   ],
   "source": [
    "# отримайте розміри обєкту DataFrame\n",
    "df_shape = df_data.shape\n",
    "print(\"\\nРозміри об'єкту DataFrame:\", df_shape)"
   ],
   "metadata": {
    "id": "2775a85f0ca4329e",
    "ExecuteTime": {
     "end_time": "2023-12-27T18:56:31.617496400Z",
     "start_time": "2023-12-27T18:56:31.584099600Z"
    }
   },
   "id": "2775a85f0ca4329e"
  },
  {
   "cell_type": "markdown",
   "source": [
    "Результат має бути $(18278, 104)$"
   ],
   "metadata": {
    "collapsed": false,
    "id": "d85b21a48045cc15"
   },
   "id": "d85b21a48045cc15"
  },
  {
   "cell_type": "code",
   "execution_count": 5,
   "outputs": [
    {
     "name": "stdout",
     "output_type": "stream",
     "text": [
      "\n",
      "Список стовпців міток: ['sofifa_id', 'player_url', 'short_name', 'long_name', 'age', 'dob', 'height_cm', 'weight_kg', 'nationality', 'club', 'overall', 'potential', 'value_eur', 'wage_eur', 'player_positions', 'preferred_foot', 'international_reputation', 'weak_foot', 'skill_moves', 'work_rate', 'body_type', 'real_face', 'release_clause_eur', 'player_tags', 'team_position', 'team_jersey_number', 'loaned_from', 'joined', 'contract_valid_until', 'nation_position', 'nation_jersey_number', 'pace', 'shooting', 'passing', 'dribbling', 'defending', 'physic', 'gk_diving', 'gk_handling', 'gk_kicking', 'gk_reflexes', 'gk_speed', 'gk_positioning', 'player_traits', 'attacking_crossing', 'attacking_finishing', 'attacking_heading_accuracy', 'attacking_short_passing', 'attacking_volleys', 'skill_dribbling', 'skill_curve', 'skill_fk_accuracy', 'skill_long_passing', 'skill_ball_control', 'movement_acceleration', 'movement_sprint_speed', 'movement_agility', 'movement_reactions', 'movement_balance', 'power_shot_power', 'power_jumping', 'power_stamina', 'power_strength', 'power_long_shots', 'mentality_aggression', 'mentality_interceptions', 'mentality_positioning', 'mentality_vision', 'mentality_penalties', 'mentality_composure', 'defending_marking', 'defending_standing_tackle', 'defending_sliding_tackle', 'goalkeeping_diving', 'goalkeeping_handling', 'goalkeeping_kicking', 'goalkeeping_positioning', 'goalkeeping_reflexes', 'ls', 'st', 'rs', 'lw', 'lf', 'cf', 'rf', 'rw', 'lam', 'cam', 'ram', 'lm', 'lcm', 'cm', 'rcm', 'rm', 'lwb', 'ldm', 'cdm', 'rdm', 'rwb', 'lb', 'lcb', 'cb', 'rcb', 'rb']\n"
     ]
    }
   ],
   "source": [
    "# Отримайте список стовпців міток (див. атрибут columns, а потім використайте метод list() щоб перетворити їх на список)\n",
    "df_columns = list(df_data.columns)\n",
    "print(\"\\nСписок стовпців міток:\", df_columns)"
   ],
   "metadata": {
    "id": "6bde006fa1aaa15f",
    "ExecuteTime": {
     "end_time": "2023-12-27T18:56:56.702565200Z",
     "start_time": "2023-12-27T18:56:56.676027900Z"
    }
   },
   "id": "6bde006fa1aaa15f"
  },
  {
   "cell_type": "code",
   "execution_count": 6,
   "outputs": [],
   "source": [
    "# створіть список з переліком назв стовпців, які потім необхідно буде видалити\n",
    "# Перелік стовпців: 'dob','sofifa_id', 'player_url', 'long_name', 'body_type', 'real_face', 'loaned_from', 'nation_position', 'nation_jersey_number'\n",
    "useless_columns = ['dob','sofifa_id', 'player_url', 'long_name', 'body_type', 'real_face', 'loaned_from', 'nation_position', 'nation_jersey_number']"
   ],
   "metadata": {
    "id": "e05479df5db4e603",
    "ExecuteTime": {
     "end_time": "2023-12-27T18:57:21.365733900Z",
     "start_time": "2023-12-27T18:57:21.335922300Z"
    }
   },
   "id": "e05479df5db4e603"
  },
  {
   "cell_type": "code",
   "execution_count": 7,
   "outputs": [],
   "source": [
    "# видаліть вказані вище мітки стовпці (див. метод drop і зверніть увагу на параметр axis, оскільки необхідно видалити саме стовпці)\n",
    "df_dropped = df_data.drop(columns=useless_columns, axis=1)"
   ],
   "metadata": {
    "id": "e1dfb4c228816c63",
    "ExecuteTime": {
     "end_time": "2023-12-27T18:58:03.511173700Z",
     "start_time": "2023-12-27T18:58:03.477926300Z"
    }
   },
   "id": "e1dfb4c228816c63"
  },
  {
   "cell_type": "code",
   "execution_count": 8,
   "outputs": [
    {
     "name": "stdout",
     "output_type": "stream",
     "text": [
      "\n",
      "Останні 5 рядків за стовпцем 'weight_kg':\n",
      "18273    79\n",
      "18274    66\n",
      "18275    75\n",
      "18276    74\n",
      "18277    78\n",
      "Name: weight_kg, dtype: int64\n"
     ]
    }
   ],
   "source": [
    "# виведіть останні 5 рядків за стовпцем з міткою 'weight_kg'\n",
    "print(\"\\nОстанні 5 рядків за стовпцем 'weight_kg':\")\n",
    "print(df_dropped['weight_kg'].tail())"
   ],
   "metadata": {
    "id": "b08c8221f6089283",
    "ExecuteTime": {
     "end_time": "2023-12-27T18:58:34.160878100Z",
     "start_time": "2023-12-27T18:58:34.130148300Z"
    }
   },
   "id": "b08c8221f6089283"
  },
  {
   "cell_type": "code",
   "execution_count": 9,
   "outputs": [
    {
     "name": "stdout",
     "output_type": "stream",
     "text": [
      "\n",
      "Перші 5 рядків за два стовпці 'short_name', 'weight_kg':\n",
      "          short_name  weight_kg\n",
      "0           L. Messi         72\n",
      "1  Cristiano Ronaldo         83\n",
      "2          Neymar Jr         68\n",
      "3           J. Oblak         87\n",
      "4          E. Hazard         74\n"
     ]
    }
   ],
   "source": [
    "# виведіть перші 5 рядків за два стовпцями з мітками 'short_name', 'weight_kg'\n",
    "print(\"\\nПерші 5 рядків за два стовпці 'short_name', 'weight_kg':\")\n",
    "print(df_dropped[['short_name', 'weight_kg']].head())"
   ],
   "metadata": {
    "id": "8964830b2cf17e14",
    "ExecuteTime": {
     "end_time": "2023-12-27T18:58:47.517995800Z",
     "start_time": "2023-12-27T18:58:47.497476700Z"
    }
   },
   "id": "8964830b2cf17e14"
  },
  {
   "cell_type": "code",
   "execution_count": 10,
   "outputs": [],
   "source": [
    "# розрахуйте індекс маси тіла для кожного гравця і отримані дані мають бути додані до df_dropped за стовпцем з назвою мітки 'BMI'\n",
    "df_dropped['height_m'] = df_dropped['height_cm'] / 100\n",
    "df_dropped['BMI'] = df_dropped['weight_kg'] / (df_dropped['height_m'] ** 2)"
   ],
   "metadata": {
    "id": "4a03eda472d36f1",
    "ExecuteTime": {
     "end_time": "2023-12-27T18:59:29.006374200Z",
     "start_time": "2023-12-27T18:59:28.977856400Z"
    }
   },
   "id": "4a03eda472d36f1"
  },
  {
   "cell_type": "markdown",
   "source": [
    "При розрахунку індексу маси тіла зверніть увагу на те, що зріст гравця вказано у см, а при розрахунку зріст має бути у метрах. Формула для розрахунку:\n",
    "$$BMI = m/h^2 $$\n"
   ],
   "metadata": {
    "collapsed": false,
    "id": "e2e541a417247cee"
   },
   "id": "e2e541a417247cee"
  },
  {
   "cell_type": "code",
   "execution_count": 11,
   "outputs": [
    {
     "name": "stdout",
     "output_type": "stream",
     "text": [
      "\n",
      "Перші п'ять рядків зі стовпцями 'short_name' і 'BMI':\n",
      "          short_name        BMI\n",
      "0           L. Messi  24.913495\n",
      "1  Cristiano Ronaldo  23.735308\n",
      "2          Neymar Jr  22.204082\n",
      "3           J. Oblak  24.615211\n",
      "4          E. Hazard  24.163265\n"
     ]
    }
   ],
   "source": [
    "# вивести перші п'ять рядків зі стовпцями з мітками 'short_name' і 'BMI'\n",
    "print(\"\\nПерші п'ять рядків зі стовпцями 'short_name' і 'BMI':\")\n",
    "print(df_dropped[['short_name', 'BMI']].head())"
   ],
   "metadata": {
    "id": "e78cef8795a875ae",
    "ExecuteTime": {
     "end_time": "2023-12-27T18:59:42.813808500Z",
     "start_time": "2023-12-27T18:59:42.783592Z"
    }
   },
   "id": "e78cef8795a875ae"
  },
  {
   "cell_type": "code",
   "execution_count": 12,
   "outputs": [
    {
     "data": {
      "text/plain": "<Figure size 1000x600 with 1 Axes>",
      "image/png": "[encoded data removed]"
     },
     "metadata": {},
     "output_type": "display_data"
    }
   ],
   "source": [
    "# Побудувати гістограму розподілу гравців за віком (стовпець 'age')\n",
    "plt.figure(figsize=(10, 6))\n",
    "plt.hist(df_dropped['age'], bins=20, color='skyblue', edgecolor='black')\n",
    "plt.title('Розподіл гравців за віком')\n",
    "plt.xlabel('Вік')\n",
    "plt.ylabel('Кількість гравців')\n",
    "plt.grid(True)\n",
    "plt.show()"
   ],
   "metadata": {
    "id": "f6455ae414ca2a40",
    "ExecuteTime": {
     "end_time": "2023-12-27T18:59:58.972574100Z",
     "start_time": "2023-12-27T18:59:58.657835100Z"
    }
   },
   "id": "f6455ae414ca2a40"
  },
  {
   "cell_type": "code",
   "execution_count": null,
   "outputs": [],
   "source": [],
   "metadata": {
    "id": "55ec30631bf6eb40"
   },
   "id": "55ec30631bf6eb40"
  }
 ],
 "metadata": {
  "kernelspec": {
   "display_name": "Python 3",
   "language": "python",
   "name": "python3"
  },
  "language_info": {
   "codemirror_mode": {
    "name": "ipython",
    "version": 2
   },
   "file_extension": ".py",
   "mimetype": "text/x-python",
   "name": "python",
   "nbconvert_exporter": "python",
   "pygments_lexer": "ipython2",
   "version": "2.7.6"
  },
  "colab": {
   "provenance": []
  }
 },
 "nbformat": 4,
 "nbformat_minor": 5
}
