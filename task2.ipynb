{
 "cells": [
  {
   "cell_type": "markdown",
   "source": [
    "# Практика №2\n",
    "## Робота з NumPy\n"
   ],
   "metadata": {
    "collapsed": false
   },
   "id": "484239dfe77bd680"
  },
  {
   "cell_type": "code",
   "execution_count": 2,
   "outputs": [],
   "source": [
    "import numpy as np"
   ],
   "metadata": {
    "collapsed": false,
    "ExecuteTime": {
     "end_time": "2023-12-27T18:42:22.967485900Z",
     "start_time": "2023-12-27T18:42:22.768927500Z"
    }
   },
   "id": "c2515f4c385bf434"
  },
  {
   "cell_type": "markdown",
   "source": [
    "1. Створіть вектор (1,2,3) і виведіть його. Виведіть тип масиву.\n",
    "2. Створіть наступну матрицю і виведіть її:\n",
    "$$\n",
    "\\left(\\begin{array}{cc} \n",
    "1 & 2 & 3\\\\\n",
    "4 & 5 & 6\\\\\n",
    "7 & 8 & 9\n",
    "\\end{array}\\right)\n",
    "$$ \n",
    "3. Створіть нульову матрицю розміром (4,5) - див. numpy.zeros.\n",
    "4. Створіть одиничну матрицю розміром (3,3) - див. numpy.identity.\n",
    "5. Виведіть розмір матриці, створеної на 2 кроці.\n",
    "6. Створити дві матриці  $A = \n",
    "\\left(\\begin{array}{cc} \n",
    "1 & 2 & 3\\\\\n",
    "4 & 5 & 6\n",
    "\\end{array}\\right)\n",
    "$ і $B = \n",
    "\\left(\\begin{array}{cc} \n",
    "-1 & -2 & -3\\\\\n",
    "-4 & -5 & -6\n",
    "\\end{array}\\right)\n",
    "$. Виконайте операції додавання і віднімання для цих двох матриць.\n",
    "7. Для вищезазначених матриць виконайте поелементне множення.\n",
    "8. До матриці $A$ додайте константу $b=2$.\n",
    "9. Виконайте множення матриці $\\left(\\begin{array}{cc} \n",
    "1 & 2 & 3\\\\\n",
    "4 & 5 & 6\n",
    "\\end{array}\\right)\n",
    "$ на матрицю $\\left(\\begin{array}{cc} \n",
    "1 & 1\\\\\n",
    "1 & 1\\\\\n",
    "1 & 1\n",
    "\\end{array}\\right)\n",
    "$\n",
    "10. Для двох векторів $v = (1,2,3)$ і $u = (1,1,1)$ знайти Евклідову норму (див. numpy.linalg.norm)\n",
    "11. Дано вектор $[11,22,33,44,55]$. Необхідно вивести усі елементи від передостаннього елемента до кінця (використайте зріз).\n"
   ],
   "metadata": {
    "collapsed": false
   },
   "id": "937bec7cd5be44c4"
  },
  {
   "cell_type": "code",
   "execution_count": 3,
   "outputs": [
    {
     "name": "stdout",
     "output_type": "stream",
     "text": [
      "Вектор: [1 2 3]\n",
      "Тип масиву: <class 'numpy.ndarray'>\n",
      "Матриця:\n",
      "[[1 2 3]\n",
      " [4 5 6]\n",
      " [7 8 9]]\n",
      "Нульова матриця:\n",
      "[[0. 0. 0. 0. 0.]\n",
      " [0. 0. 0. 0. 0.]\n",
      " [0. 0. 0. 0. 0.]\n",
      " [0. 0. 0. 0. 0.]]\n",
      "Одинична матриця:\n",
      "[[1. 0. 0.]\n",
      " [0. 1. 0.]\n",
      " [0. 0. 1.]]\n",
      "Розмір матриці: (3, 3)\n",
      "Додавання матриць:\n",
      "[[0 0 0]\n",
      " [0 0 0]]\n",
      "Віднімання матриць:\n",
      "[[ 2  4  6]\n",
      " [ 8 10 12]]\n",
      "Поелементне множення:\n",
      "[[ -1  -4  -9]\n",
      " [-16 -25 -36]]\n",
      "Матриця після додавання константи:\n",
      "[[3 4 5]\n",
      " [6 7 8]]\n",
      "Множення матриць:\n",
      "[[ 6  6]\n",
      " [15 15]]\n",
      "Евклідова норма вектора v: 3.7416573867739413\n",
      "Евклідова норма вектора u: 1.7320508075688772\n",
      "Елементи від передостаннього до кінця:\n",
      "[44 55]\n"
     ]
    }
   ],
   "source": [
    "# 1. Створити вектор і вивести його\n",
    "vector = np.array([1, 2, 3])\n",
    "print(\"Вектор:\", vector)\n",
    "print(\"Тип масиву:\", type(vector))\n",
    "\n",
    "# 2. Створити матрицю і вивести її\n",
    "matrix = np.array([[1, 2, 3], [4, 5, 6], [7, 8, 9]])\n",
    "print(\"Матриця:\")\n",
    "print(matrix)\n",
    "\n",
    "# 3. Створити нульову матрицю\n",
    "zero_matrix = np.zeros((4, 5))\n",
    "print(\"Нульова матриця:\")\n",
    "print(zero_matrix)\n",
    "\n",
    "# 4. Створити одиничну матрицю\n",
    "identity_matrix = np.identity(3)\n",
    "print(\"Одинична матриця:\")\n",
    "print(identity_matrix)\n",
    "\n",
    "# 5. Вивести розмір матриці\n",
    "matrix_shape = matrix.shape\n",
    "print(\"Розмір матриці:\", matrix_shape)\n",
    "\n",
    "# 6. Виконати операції додавання і віднімання матриць\n",
    "A = np.array([[1, 2, 3], [4, 5, 6]])\n",
    "B = np.array([[-1, -2, -3], [-4, -5, -6]])\n",
    "\n",
    "addition = A + B\n",
    "subtraction = A - B\n",
    "\n",
    "print(\"Додавання матриць:\")\n",
    "print(addition)\n",
    "print(\"Віднімання матриць:\")\n",
    "print(subtraction)\n",
    "\n",
    "# 7. Виконати поелементне множення\n",
    "elementwise_multiplication = A * B\n",
    "print(\"Поелементне множення:\")\n",
    "print(elementwise_multiplication)\n",
    "\n",
    "# 8. Додати константу до матриці\n",
    "b = 2\n",
    "result = A + b\n",
    "print(\"Матриця після додавання константи:\")\n",
    "print(result)\n",
    "\n",
    "# 9. Виконати множення матриць\n",
    "C = np.array([[1, 2, 3], [4, 5, 6]])\n",
    "D = np.array([[1, 1], [1, 1], [1, 1]])\n",
    "\n",
    "matrix_multiplication = np.dot(C, D)\n",
    "print(\"Множення матриць:\")\n",
    "print(matrix_multiplication)\n",
    "\n",
    "# 10. Знайти Евклідову норму векторів\n",
    "v = np.array([1, 2, 3])\n",
    "u = np.array([1, 1, 1])\n",
    "\n",
    "v_norm = np.linalg.norm(v)\n",
    "u_norm = np.linalg.norm(u)\n",
    "\n",
    "print(\"Евклідова норма вектора v:\", v_norm)\n",
    "print(\"Евклідова норма вектора u:\", u_norm)\n",
    "\n",
    "# 11. Вивести елементи від передостаннього до кінця\n",
    "vector = np.array([11, 22, 33, 44, 55])\n",
    "result = vector[-2:]\n",
    "print(\"Елементи від передостаннього до кінця:\")\n",
    "print(result)\n"
   ],
   "metadata": {
    "collapsed": false,
    "ExecuteTime": {
     "end_time": "2023-12-27T18:42:26.068759800Z",
     "start_time": "2023-12-27T18:42:26.056822700Z"
    }
   },
   "id": "71983571cf1726e1"
  },
  {
   "cell_type": "markdown",
   "source": [],
   "metadata": {
    "collapsed": false
   },
   "id": "1cb3380712e1df5a"
  },
  {
   "cell_type": "code",
   "execution_count": null,
   "outputs": [],
   "source": [],
   "metadata": {
    "collapsed": false
   },
   "id": "2af1fe0497f37da1"
  },
  {
   "cell_type": "code",
   "execution_count": null,
   "outputs": [],
   "source": [],
   "metadata": {
    "collapsed": false
   },
   "id": "123dc262ded4b53c"
  }
 ],
 "metadata": {
  "kernelspec": {
   "display_name": "Python 3",
   "language": "python",
   "name": "python3"
  },
  "language_info": {
   "codemirror_mode": {
    "name": "ipython",
    "version": 2
   },
   "file_extension": ".py",
   "mimetype": "text/x-python",
   "name": "python",
   "nbconvert_exporter": "python",
   "pygments_lexer": "ipython2",
   "version": "2.7.6"
  }
 },
 "nbformat": 4,
 "nbformat_minor": 5
}
